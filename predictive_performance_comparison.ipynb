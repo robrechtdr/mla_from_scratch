{
 "metadata": {
  "name": "",
  "signature": "sha256:b5fd099650fb050f25c69ebfb2d2f029a46d0e020fb46f701c5893ae683a2d33"
 },
 "nbformat": 3,
 "nbformat_minor": 0,
 "worksheets": [
  {
   "cells": [
    {
     "cell_type": "markdown",
     "metadata": {},
     "source": [
      "Predictive performance comparison of mla_from_scratch with scikit-learn\n",
      "======================================================================="
     ]
    },
    {
     "cell_type": "code",
     "collapsed": false,
     "input": [
      "import sklearn.datasets\n",
      "import sklearn.naive_bayes as skl_nb\n",
      "import mla_from_scratch.naive_bayes as mfs_nb\n",
      "\n",
      "from sklearn import cross_validation\n",
      "from utils import get_prediction_stats"
     ],
     "language": "python",
     "metadata": {},
     "outputs": [],
     "prompt_number": 26
    },
    {
     "cell_type": "code",
     "collapsed": false,
     "input": [
      "iris = sklearn.datasets.load_iris()\n",
      "# Let's try with a training set of only 20% of the total records.\n",
      "data_train, data_test, target_train, target_test = cross_validation.train_test_split(iris.data, \n",
      "                                                                                     iris.target, \n",
      "                                                                                     test_size=0.80, \n",
      "                                                                                     random_state=0)"
     ],
     "language": "python",
     "metadata": {},
     "outputs": [],
     "prompt_number": 27
    },
    {
     "cell_type": "markdown",
     "metadata": {},
     "source": [
      "# Gaussian Naive Bayes"
     ]
    },
    {
     "cell_type": "markdown",
     "metadata": {},
     "source": [
      "## scikit-learn implementation"
     ]
    },
    {
     "cell_type": "code",
     "collapsed": false,
     "input": [
      "skl_gnb = skl_nb.GaussianNB()\n",
      "skl_gnb.fit(data_train, target_train)\n",
      "skl_gnb_pred = skl_gnb.predict(data_test)\n",
      "\n",
      "skl_gnb_pred"
     ],
     "language": "python",
     "metadata": {},
     "outputs": [
      {
       "metadata": {},
       "output_type": "pyout",
       "prompt_number": 28,
       "text": [
        "array([2, 1, 0, 2, 0, 2, 0, 1, 1, 1, 1, 1, 1, 1, 1, 0, 1, 1, 0, 0, 2, 1, 0,\n",
        "       0, 1, 0, 0, 1, 1, 0, 2, 1, 0, 1, 2, 1, 0, 1, 1, 1, 2, 0, 2, 0, 0, 1,\n",
        "       2, 2, 1, 2, 1, 2, 1, 1, 1, 1, 1, 2, 1, 2, 1, 0, 2, 1, 1, 1, 1, 2, 0,\n",
        "       0, 2, 1, 0, 0, 1, 0, 2, 1, 0, 1, 2, 1, 0, 2, 2, 2, 2, 0, 0, 2, 2, 0,\n",
        "       2, 0, 2, 2, 0, 0, 2, 0, 0, 0, 1, 2, 2, 0, 0, 0, 1, 1, 0, 0, 1, 0, 2,\n",
        "       1, 2, 1, 0, 1])"
       ]
      }
     ],
     "prompt_number": 28
    },
    {
     "cell_type": "code",
     "collapsed": false,
     "input": [
      "skl_gnb_ps = get_prediction_stats(skl_gnb_pred, target_test)"
     ],
     "language": "python",
     "metadata": {},
     "outputs": [
      {
       "output_type": "stream",
       "stream": "stdout",
       "text": [
        "112 out of 120 targets were predicted correctly (93.3333333333% correct).\n"
       ]
      }
     ],
     "prompt_number": 29
    },
    {
     "cell_type": "markdown",
     "metadata": {},
     "source": [
      "## mla_from_scratch implementation"
     ]
    },
    {
     "cell_type": "code",
     "collapsed": false,
     "input": [
      "mfs_gnb = mfs_nb.GaussianNaiveBayes()\n",
      "mfs_gnb.fit(data_train, target_train)\n",
      "mfs_gnb_pred = mfs_gnb.predict(data_test)\n",
      "\n",
      "mfs_gnb_pred"
     ],
     "language": "python",
     "metadata": {},
     "outputs": [
      {
       "metadata": {},
       "output_type": "pyout",
       "prompt_number": 30,
       "text": [
        "array([2, 1, 0, 2, 0, 2, 0, 1, 1, 1, 1, 1, 1, 1, 1, 0, 1, 1, 0, 0, 2, 1, 0,\n",
        "       0, 1, 0, 0, 1, 1, 0, 2, 1, 0, 1, 2, 1, 0, 1, 1, 1, 2, 0, 2, 0, 0, 1,\n",
        "       2, 2, 1, 2, 1, 2, 1, 1, 1, 1, 1, 2, 1, 2, 1, 0, 2, 1, 1, 1, 1, 2, 0,\n",
        "       0, 2, 1, 0, 0, 1, 0, 2, 1, 0, 1, 2, 1, 0, 2, 2, 2, 2, 0, 0, 2, 2, 0,\n",
        "       2, 0, 2, 2, 0, 0, 2, 0, 0, 0, 1, 2, 2, 0, 0, 0, 1, 1, 0, 0, 1, 0, 2,\n",
        "       1, 2, 1, 0, 1])"
       ]
      }
     ],
     "prompt_number": 30
    },
    {
     "cell_type": "code",
     "collapsed": false,
     "input": [
      "mfs_gnb_ps = get_prediction_stats(mfs_gnb_pred, target_test)"
     ],
     "language": "python",
     "metadata": {},
     "outputs": [
      {
       "output_type": "stream",
       "stream": "stdout",
       "text": [
        "112 out of 120 targets were predicted correctly (93.3333333333% correct).\n"
       ]
      }
     ],
     "prompt_number": 31
    },
    {
     "cell_type": "markdown",
     "metadata": {},
     "source": [
      ">  Well I'll be damned ..."
     ]
    }
   ],
   "metadata": {}
  }
 ]
}